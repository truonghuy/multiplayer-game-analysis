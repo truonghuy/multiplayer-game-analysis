{
 "cells": [
  {
   "cell_type": "code",
   "execution_count": 3,
   "metadata": {
    "collapsed": true
   },
   "outputs": [],
   "source": [
    "from pymongo import MongoClient\n",
    "import pandas as pd\n",
    "from matplotlib import pyplot as plt\n",
    "import numpy as np\n",
    "\n",
    "plt.rcParams['figure.figsize'] = (5,4)\n",
    "\n",
    "\n",
    "client = MongoClient()\n",
    "\n",
    "db = client.league_of_legends"
   ]
  },
  {
   "cell_type": "code",
   "execution_count": 4,
   "metadata": {
    "collapsed": true
   },
   "outputs": [],
   "source": [
    "actionTypes = db.playtraces_season11_72hrs.distinct('playtrace.type')"
   ]
  },
  {
   "cell_type": "code",
   "execution_count": 5,
   "metadata": {
    "collapsed": true
   },
   "outputs": [],
   "source": [
    "actionTypes = db.playtraces_season11_72hrs.distinct('playtrace.type')\n",
    "\n",
    "def get_period_range_list(end,n):\n",
    "    period_range_list = []\n",
    "    start = 0\n",
    "    period_len = end/n\n",
    "    for i in range(n):\n",
    "        period_range_list.append((int(start), int(start+period_len)))\n",
    "        start += period_len\n",
    "    return period_range_list\n",
    "\n",
    "# create a df with action counts for n periods\n",
    "def divide(df,n):\n",
    "    action_count_dict = {k:0 for k in [\"%s_count_%s\" % (a,p) for p in range(n) for a in actionTypes]}\n",
    "    action_count_dict['id'] = ''\n",
    "    new_df = pd.DataFrame(columns=action_count_dict.keys())\n",
    "    for i in range(len(df)):\n",
    "        row = df.iloc[i,:].copy()\n",
    "        row_action_count_dict = action_count_dict.copy()\n",
    "        if row['playtrace'] != []:\n",
    "            last_action_time=row['playtrace'][-1]['timestamp']\n",
    "            period_range_list = get_period_range_list(last_action_time,n)\n",
    "            for action in row['playtrace']:\n",
    "                for p in period_range_list:\n",
    "                    if action['timestamp'] in range(p[0],p[1]):\n",
    "                        t = period_range_list.index(p)\n",
    "                k = \"%s_count_%s\" % (action['type'], t)\n",
    "                row_action_count_dict[k] += 1\n",
    "        row_action_count_dict['id']=row['id']\n",
    "        new_df=new_df.append(row_action_count_dict, ignore_index=True)\n",
    "    return new_df"
   ]
  },
  {
   "cell_type": "code",
   "execution_count": 6,
   "metadata": {
    "collapsed": true
   },
   "outputs": [],
   "source": [
    "def get_df(df,n):\n",
    "    action_count_dict = {k:0 for k in [\"%s_count_%s\" % (a,p) for p in range(n) for a in actionTypes]}\n",
    "    action_count_dict['id'] = ''\n",
    "    new_df = pd.DataFrame(columns=action_count_dict.keys())\n",
    "    for i in range(len(df)):\n",
    "        row = df.iloc[i,:].copy()\n",
    "        row_action_count_dict = action_count_dict.copy()\n",
    "        if row['playtrace'] != []:\n",
    "            last_action_time=row['playtrace'][-1]['timestamp']\n",
    "            period_range_list = get_period_range_list(last_action_time,n)\n",
    "            for action in row['playtrace']:\n",
    "                for p in period_range_list:\n",
    "                    if action['timestamp'] in range(p[0],p[1]):\n",
    "                        t = period_range_list.index(p)\n",
    "                k = \"%s_count_%s\" % (action['type'], t)\n",
    "                row_action_count_dict[k] += 1\n",
    "        row_action_count_dict['highestAchievedSeasonTier'] = row['highestAchievedSeasonTier']\n",
    "        new_df=new_df.append(row_action_count_dict, ignore_index=True)\n",
    "    return new_df"
   ]
  },
  {
   "cell_type": "code",
   "execution_count": 7,
   "metadata": {
    "collapsed": true
   },
   "outputs": [],
   "source": [
    "from sklearn.preprocessing import MinMaxScaler\n",
    "s = MinMaxScaler()\n",
    "# PCA\n",
    "from sklearn.decomposition import PCA\n",
    "from sklearn import svm\n",
    "from scipy.stats import ttest_ind\n",
    "from sklearn.model_selection import train_test_split\n",
    "from sklearn.metrics import precision_recall_fscore_support\n",
    "\n",
    "def get_acc_and_rand(df):\n",
    "    X = df.iloc[:,df.columns != 'highestAchievedSeasonTier'].values\n",
    "    X = s.fit_transform(X)\n",
    "    try:\n",
    "        y = df.highestAchievedSeasonTier.values\n",
    "    except:\n",
    "        print('highestAchievedSeasonTier' in df.columns)\n",
    "    X_train, X_test, y_train, y_test = train_test_split(X, y, test_size=0.3)\n",
    "    classifier = svm.SVC(C=50)\n",
    "    classifier.fit(X_train, y_train)\n",
    "    pred = classifier.predict(X_test)\n",
    "    most_popular_training = max(set(y_train), key=list(y_train).count)\n",
    "    random_guess = list(y_test).count(most_popular_training)/len(y_test)\n",
    "    accuracy = classifier.score(X_test, y_test)\n",
    "    return accuracy, random_guess"
   ]
  },
  {
   "cell_type": "code",
   "execution_count": 8,
   "metadata": {
    "collapsed": true
   },
   "outputs": [],
   "source": [
    "from scipy.stats import ttest_ind\n",
    "\n",
    "def classify(championId):\n",
    "    df = pd.DataFrame(list(db.playtraces_season11_72hrs.find({'gameMode':'CLASSIC', 'championId': championId, 'highestAchievedSeasonTier': {'$in': ['BRONZE', 'PLATINUM']}})))\n",
    "    df_1 = get_df(df,1).drop('id', axis=1)\n",
    "    accuracies = []\n",
    "    random_guesses = []\n",
    "    for i in range(50):\n",
    "        acc, rand_guess = get_acc_and_rand(df_1)\n",
    "        accuracies.append(acc)\n",
    "        random_guesses.append(rand_guess)\n",
    "    p_val = ttest_ind(accuracies, random_guesses).pvalue\n",
    "    return(p_val, np.mean(accuracies), np.mean(random_guesses), np.std(accuracies), np.std(random_guesses))"
   ]
  },
  {
   "cell_type": "code",
   "execution_count": 11,
   "metadata": {
    "collapsed": true
   },
   "outputs": [],
   "source": [
    "champions = pd.DataFrame(list(db.playtraces_season11_72hrs.find({'gameMode':'CLASSIC','gameVersion': '8.3.217.1022', 'queueId': 420}))).championId.unique()"
   ]
  },
  {
   "cell_type": "code",
   "execution_count": 12,
   "metadata": {},
   "outputs": [
    {
     "name": "stderr",
     "output_type": "stream",
     "text": [
      "/Users/yuliabarannikova/anaconda/lib/python3.6/site-packages/sklearn/utils/validation.py:475: DataConversionWarning: Data with input dtype object was converted to float64 by MinMaxScaler.\n",
      "  warnings.warn(msg, DataConversionWarning)\n"
     ]
    },
    {
     "name": "stdout",
     "output_type": "stream",
     "text": [
      "Champion:  37  p_val 0.064453368816\n",
      "Champion:  267  p_val 3.58087182058e-39\n",
      "Champion:  25  p_val 0.00522249458075\n",
      "Champion:  81  p_val 4.15136702532e-05\n",
      "Champion:  236  p_val 0.00937049676509\n",
      "Champion:  91  p_val 0.00340730403389\n",
      "Champion:  41  p_val 0.0238510351216\n",
      "Champion:  77  p_val 2.91149741795e-05\n",
      "Champion:  12  p_val 4.05647063574e-24\n",
      "Champion:  21  p_val 0.896501231797\n",
      "Champion:  245  p_val 7.29538800282e-08\n",
      "Champion:  24  p_val 1.62324033089e-11\n",
      "Champion:  39  p_val 0.133210019343\n",
      "Champion:  110  p_val 2.85524446283e-12\n",
      "Champion:  86  p_val 1.0\n",
      "Champion:  18  p_val 3.0327790831e-05\n",
      "Champion:  103  p_val 3.34293056714e-10\n",
      "Champion:  11  p_val 0.318053651576\n",
      "Champion:  101  p_val 0.121713525325\n",
      "Champion:  61  p_val 8.35554275799e-08\n",
      "Champion:  67  p_val 5.70470060075e-17\n",
      "Champion:  164  p_val 0.0247664903096\n",
      "Champion:  32  p_val 0.739082587087\n",
      "Champion:  134  p_val 0.18059344139\n",
      "Champion:  19  p_val 0.644895456847\n",
      "Champion:  143  p_val 3.03162976366e-22\n",
      "Champion:  131  p_val 0.0077302538834\n",
      "Champion:  43  p_val 8.52095166446e-09\n",
      "Champion:  141  p_val 7.5948258054e-08\n",
      "Champion:  122  p_val 0.0119866184721\n",
      "Champion:  29  p_val 0.000539723804982\n",
      "Champion:  9  p_val 8.87337150029e-10\n",
      "Champion:  31  p_val 0.000459159471577\n",
      "Champion:  22  p_val 0.22548352831\n",
      "Champion:  44  p_val 2.42322285713e-18\n",
      "Champion:  45  p_val 0.274515615717\n",
      "Champion:  5  p_val 0.702756998898\n",
      "Champion:  8  p_val 1.24029264696e-08\n",
      "Champion:  120  p_val 0.15260727159\n",
      "Champion:  238  p_val 0.251760894436\n",
      "Champion:  89  p_val 0.0925761642588\n",
      "Champion:  99  p_val 0.248792678219\n",
      "Champion:  127  p_val 0.23162839573\n",
      "Champion:  111  p_val 0.275108874788\n",
      "Champion:  50  p_val 0.000170083957229\n",
      "Champion:  72  p_val 9.42645638757e-08\n",
      "Champion:  222  p_val 0.358475267968\n",
      "Champion:  498  p_val 0.100525589407\n",
      "Champion:  150  p_val 0.122895576114\n",
      "Champion:  90  p_val 0.223134003482\n",
      "Champion:  40  p_val 7.70370877797e-07\n",
      "Champion:  112  p_val 0.00528308463857\n",
      "Champion:  102  p_val 0.504071321775\n",
      "Champion:  63  p_val 9.35172467572e-20\n",
      "Champion:  20  p_val 0.000711641370319\n",
      "Champion:  53  p_val 2.46284494099e-16\n",
      "Champion:  58  p_val 0.448931770236\n",
      "Champion:  412  p_val 1.32759572611e-41\n",
      "Champion:  119  p_val 2.24929169594e-09\n",
      "Champion:  55  p_val 0.760186470307\n",
      "Champion:  114  p_val 0.0102504293718\n",
      "Champion:  64  p_val 5.50605412585e-12\n",
      "Champion:  17  p_val 1.0\n",
      "Champion:  57  p_val 0.010541295171\n",
      "Champion:  157  p_val 0.772531554051\n",
      "Champion:  142  p_val 0.00194123184946\n",
      "Champion:  59  p_val 0.264476721275\n",
      "Champion:  163  p_val 1.04026947469e-05\n",
      "Champion:  78  p_val 0.551768432229\n",
      "Champion:  15  p_val 1.08971217254e-06\n",
      "Champion:  96  p_val 7.0011702412e-11\n",
      "Champion:  26  p_val 2.40747414142e-24\n",
      "Champion:  6  p_val 0.0711851919057\n",
      "Champion:  92  p_val 9.21787517345e-09\n",
      "Champion:  113  p_val 9.74655124901e-18\n",
      "Champion:  432  p_val 1.35298114756e-11\n",
      "Champion:  202  p_val 0.489450358672\n",
      "Champion:  33  p_val 0.00155104990428\n",
      "Champion:  429  p_val 0.74425367169\n",
      "Champion:  84  p_val 0.96818073279\n",
      "Champion:  16  p_val 0.45568081309\n",
      "Champion:  35  p_val 5.8204385602e-21\n",
      "Champion:  121  p_val 7.31036613046e-21\n",
      "Champion:  254  p_val 0.0113015759251\n",
      "Champion:  75  p_val 1.0\n",
      "Champion:  51  p_val 7.03473293594e-16\n",
      "Champion:  154  p_val 0.000212511167852\n",
      "Champion:  38  p_val 0.484471889046\n",
      "Champion:  107  p_val 3.21505415682e-22\n",
      "Champion:  28  p_val 0.668943656518\n",
      "Champion:  3  p_val 0.0159792956002\n",
      "Champion:  7  p_val 1.38903000123e-05\n",
      "Champion:  201  p_val 1.40850936902e-06\n",
      "Champion:  82  p_val 3.05542551387e-07\n",
      "Champion:  427  p_val 0.103335784194\n",
      "Champion:  420  p_val 0.0230583321357\n",
      "Champion:  69  p_val 0.135300591185\n",
      "Champion:  117  p_val 2.04881094452e-23\n",
      "Champion:  136  p_val 0.000676718047481\n",
      "Champion:  62  p_val 0.106707207241\n",
      "Champion:  421  p_val 4.39404408237e-09\n",
      "Champion:  240  p_val 1.73029243541e-11\n",
      "Champion:  80  p_val 0.794005233532\n",
      "Champion:  268  p_val 0.191165165404\n",
      "Champion:  14  p_val 2.86829558931e-20\n",
      "Champion:  2  p_val 0.0158312621377\n",
      "Champion:  13  p_val 3.70239750469e-08\n",
      "Champion:  30  p_val 0.017301638696\n",
      "Champion:  497  p_val 1.15419017538e-16\n",
      "Champion:  74  p_val 0.0807826301991\n",
      "Champion:  68  p_val 3.76506692596e-09\n",
      "Champion:  126  p_val 8.346675472e-06\n",
      "Champion:  98  p_val 6.27071748689e-06\n",
      "Champion:  83  p_val 0.00290864602232\n",
      "Champion:  1  p_val 0.783024660956\n",
      "Champion:  104  p_val 4.65813931867e-07\n",
      "Champion:  516  p_val 0.0762997901339\n",
      "Champion:  115  p_val 0.0122531104169\n",
      "Champion:  223  p_val 0.00567293385969\n",
      "Champion:  105  p_val 0.440236108845\n",
      "Champion:  42  p_val 0.208340529182\n",
      "Champion:  161  p_val 0.901976310694\n",
      "Champion:  266  p_val 7.97367582343e-13\n",
      "Champion:  54  p_val 0.626043816718\n",
      "Champion:  56  p_val 1.25782538476e-16\n",
      "Champion:  4  p_val 0.906980653192\n",
      "Champion:  60  p_val 9.909648095e-07\n",
      "Champion:  48  p_val 0.00429774506519\n",
      "Champion:  76  p_val 2.52431994231e-34\n",
      "Champion:  34  p_val 1.04132902709e-18\n",
      "Champion:  23  p_val 0.266486831138\n",
      "Champion:  203  p_val 1.284716005e-12\n",
      "Champion:  36  p_val 0.00556282874231\n",
      "Champion:  106  p_val 0.0162181105879\n",
      "Champion:  79  p_val 0.0715647081616\n",
      "Champion:  85  p_val 0.869150331027\n",
      "Champion:  133  p_val 6.65559674674e-05\n",
      "Champion:  27  p_val 0.24863604616\n",
      "Champion:  10  p_val 0.00121780564077\n"
     ]
    }
   ],
   "source": [
    "classifier_results = []\n",
    "for c in champions:\n",
    "    c = int(c)\n",
    "    result_obj = {\n",
    "        'championId': c\n",
    "    }\n",
    "    p_val, mean_svm, mean_rand, std_svm, std_rand = classify(c)\n",
    "    print (\"Champion: \", c, \" p_val\", p_val)\n",
    "    result_obj = {\n",
    "        'championId': c,\n",
    "        'p_val': p_val,\n",
    "        'mean_svm': mean_svm,\n",
    "        'mean_rand': mean_rand,\n",
    "        'std_svm': std_svm,\n",
    "        'std_rand': std_rand\n",
    "    }\n",
    "    classifier_results.append(result_obj)"
   ]
  },
  {
   "cell_type": "code",
   "execution_count": 13,
   "metadata": {
    "collapsed": true
   },
   "outputs": [],
   "source": [
    "results_df = pd.DataFrame(classifier_results)\n",
    "for col in results_df.columns[1:]:\n",
    "    results_df[col] = results_df[col].round(decimals=5)  \n",
    "results_df['mean_diff'] = results_df['mean_svm'] - results_df['mean_rand']\n",
    "results_df = results_df[['championId', 'p_val','mean_diff', 'mean_svm','mean_rand','std_svm', 'std_rand']]\n",
    "results_df.sort_values(by=['p_val']).to_csv('results_action_counts.csv', index=False)"
   ]
  },
  {
   "cell_type": "code",
   "execution_count": null,
   "metadata": {
    "collapsed": true
   },
   "outputs": [],
   "source": []
  }
 ],
 "metadata": {
  "kernelspec": {
   "display_name": "Python 3",
   "language": "python",
   "name": "python3"
  },
  "language_info": {
   "codemirror_mode": {
    "name": "ipython",
    "version": 3
   },
   "file_extension": ".py",
   "mimetype": "text/x-python",
   "name": "python",
   "nbconvert_exporter": "python",
   "pygments_lexer": "ipython3",
   "version": "3.6.3"
  }
 },
 "nbformat": 4,
 "nbformat_minor": 2
}
