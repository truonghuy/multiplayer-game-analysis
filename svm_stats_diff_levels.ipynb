{
 "cells": [
  {
   "cell_type": "code",
   "execution_count": 1,
   "metadata": {
    "collapsed": true
   },
   "outputs": [],
   "source": [
    "from pymongo import MongoClient\n",
    "import pandas as pd\n",
    "from matplotlib import pyplot as plt\n",
    "import numpy as np\n",
    "\n",
    "plt.rcParams['figure.figsize'] = (5,4)\n",
    "\n",
    "\n",
    "client = MongoClient()\n",
    "\n",
    "db = client.league_of_legends"
   ]
  },
  {
   "cell_type": "code",
   "execution_count": 2,
   "metadata": {
    "collapsed": true
   },
   "outputs": [],
   "source": [
    "def get_df(df, championId):\n",
    "    cols = ['kills', 'deaths', 'assists', 'largestKillingSpree', 'largestMultiKill', 'killingSprees', 'longestTimeSpentLiving', 'doubleKills', 'tripleKills', 'quadraKills', 'pentaKills', 'unrealKills', 'totalDamageDealt', 'magicDamageDealt', 'physicalDamageDealt', 'trueDamageDealt', 'largestCriticalStrike', 'totalDamageDealtToChampions', 'magicDamageDealtToChampions', 'physicalDamageDealtToChampions', 'trueDamageDealtToChampions', 'totalHeal', 'totalUnitsHealed', 'damageSelfMitigated', 'damageDealtToObjectives', 'damageDealtToTurrets', 'visionScore', 'timeCCingOthers', 'totalDamageTaken', 'magicalDamageTaken', 'physicalDamageTaken', 'trueDamageTaken', 'goldEarned', 'goldSpent', 'turretKills', 'inhibitorKills', 'totalMinionsKilled', 'neutralMinionsKilled', 'totalTimeCrowdControlDealt', 'champLevel', 'visionWardsBoughtInGame', 'sightWardsBoughtInGame', 'combatPlayerScore', 'objectivePlayerScore', 'totalPlayerScore', 'totalScoreRank']\n",
    "    new_df = pd.DataFrame(columns=cols)\n",
    "    for i in range(len(df)):\n",
    "        match = df.iloc[i,:]\n",
    "        for player in match['participants']:\n",
    "            if player['championId'] == championId:\n",
    "                summonerLvl = match['yulia_player_lvls'][player['participantId']-1]\n",
    "                row = {\n",
    "                    'summonerLvl':summonerLvl\n",
    "                }\n",
    "                for c in cols:\n",
    "                    row[c] = player['stats'][c]\n",
    "                new_df = new_df.append(row, ignore_index=True)\n",
    "    return new_df"
   ]
  },
  {
   "cell_type": "code",
   "execution_count": 3,
   "metadata": {
    "collapsed": true
   },
   "outputs": [],
   "source": [
    "from sklearn.preprocessing import MinMaxScaler\n",
    "s = MinMaxScaler()\n",
    "# PCA\n",
    "from sklearn.decomposition import PCA\n",
    "from sklearn import svm\n",
    "from sklearn.model_selection import train_test_split\n",
    "from sklearn.manifold import TSNE\n",
    "from sklearn.metrics import precision_recall_fscore_support\n",
    "\n",
    "def plot_svm_tsne(df):\n",
    "    X = df.iloc[:,:-1].values\n",
    "    X = s.fit_transform(X)\n",
    "    y = df.iloc[:,-1].values\n",
    "    X_train, X_test, y_train, y_test = train_test_split(X, y, test_size=0.3)\n",
    "    classifier = svm.SVC(C=50)\n",
    "    classifier.fit(X_train, y_train)\n",
    "    pred = classifier.predict(X_test)\n",
    "    X_tsne = TSNE(n_components=2).fit_transform(s.fit_transform(X_test))\n",
    "    f1 = X_tsne[:,0]\n",
    "    f2 = X_tsne[:,1]\n",
    "    l = []\n",
    "    for i in range(0, len(y_test)):\n",
    "        if y_test[i] == \"WEAK\":\n",
    "            l.append(\"blue\")\n",
    "        else:\n",
    "            l.append(\"lime\")\n",
    "    labels = []\n",
    "    for i in range(0, len(y_test)):\n",
    "        if y_test[i] == pred[i] == \"WEAK\":\n",
    "            labels.append('blue')\n",
    "        elif y_test[i] == pred[i] == \"STRONG\":\n",
    "            labels.append('lime')\n",
    "        else:\n",
    "            labels.append('red')\n",
    "    plt.title(\"Actual\")\n",
    "    plt.scatter(f1, f2, c=l, s=4, cmap='brg')\n",
    "    plt.show()\n",
    "    plt.title(\"Predicted\")\n",
    "    plt.scatter(f1, f2, c=labels, s=4)\n",
    "    plt.show()\n",
    "    random_guess = max(precision_recall_fscore_support(y_test, pred)[3])/len(pred)\n",
    "    accuracy = classifier.score(X_test, y_test)\n",
    "    print (\"RANDOM GUESS: \", random_guess)\n",
    "    print (\"TEST SET ACC: \", accuracy)\n",
    "    print (\"F-scores: \", precision_recall_fscore_support(y_test, pred)[2])"
   ]
  },
  {
   "cell_type": "code",
   "execution_count": 4,
   "metadata": {
    "collapsed": true
   },
   "outputs": [],
   "source": [
    "def get_acc_and_rand(df):\n",
    "    X = df.iloc[:,:-1].values\n",
    "    X = s.fit_transform(X)\n",
    "    y = df.iloc[:,-1].values\n",
    "    X_train, X_test, y_train, y_test = train_test_split(X, y, test_size=0.3)\n",
    "    classifier = svm.SVC(C=50)\n",
    "    classifier.fit(X_train, y_train)\n",
    "    pred = classifier.predict(X_test)\n",
    "    random_guess = max(precision_recall_fscore_support(y_test, pred)[3])/len(pred)\n",
    "    accuracy = classifier.score(X_test, y_test)\n",
    "    return accuracy, random_guess"
   ]
  },
  {
   "cell_type": "code",
   "execution_count": 5,
   "metadata": {
    "collapsed": true
   },
   "outputs": [],
   "source": [
    "from scipy.stats import ttest_ind\n",
    "\n",
    "def classify(championId):\n",
    "    df = pd.DataFrame(list(db.matches_season11_72hrs.find({'participants': {'$elemMatch':{'championId': championId}},'gameMode':'CLASSIC'})))\n",
    "    new_df = get_df(df, championId)\n",
    "    df_weak = new_df[new_df['summonerLvl'] <= new_df.summonerLvl.quantile(0.25)]\n",
    "    df_strong = new_df[new_df['summonerLvl'] >= new_df.summonerLvl.quantile(0.75)]\n",
    "    df_weak['level'] = \"WEAK\"\n",
    "    df_strong['level'] = \"STRONG\"\n",
    "    df_agg = pd.concat([df_weak, df_strong])\n",
    "    df_agg = df_agg.drop('summonerLvl', axis=1)\n",
    "    accuracies = []\n",
    "    random_guesses = []\n",
    "    for i in range(50):\n",
    "        acc, rand_guess = get_acc_and_rand(df_agg)\n",
    "        accuracies.append(acc)\n",
    "        random_guesses.append(rand_guess)\n",
    "    p_val = ttest_ind(accuracies, random_guesses).pvalue\n",
    "    return(p_val, np.mean(accuracies), np.mean(random_guesses), np.std(accuracies), np.std(random_guesses))"
   ]
  },
  {
   "cell_type": "code",
   "execution_count": 6,
   "metadata": {
    "collapsed": true
   },
   "outputs": [],
   "source": [
    "champions = pd.DataFrame(list(db.playtraces_season11_72hrs.find({'gameMode':'CLASSIC','gameVersion': '8.3.217.1022', 'queueId': 420}))).championId.unique()"
   ]
  },
  {
   "cell_type": "code",
   "execution_count": 8,
   "metadata": {},
   "outputs": [
    {
     "name": "stderr",
     "output_type": "stream",
     "text": [
      "/Users/yuliabarannikova/anaconda/lib/python3.6/site-packages/ipykernel_launcher.py:8: SettingWithCopyWarning: \n",
      "A value is trying to be set on a copy of a slice from a DataFrame.\n",
      "Try using .loc[row_indexer,col_indexer] = value instead\n",
      "\n",
      "See the caveats in the documentation: http://pandas.pydata.org/pandas-docs/stable/indexing.html#indexing-view-versus-copy\n",
      "  \n",
      "/Users/yuliabarannikova/anaconda/lib/python3.6/site-packages/ipykernel_launcher.py:9: SettingWithCopyWarning: \n",
      "A value is trying to be set on a copy of a slice from a DataFrame.\n",
      "Try using .loc[row_indexer,col_indexer] = value instead\n",
      "\n",
      "See the caveats in the documentation: http://pandas.pydata.org/pandas-docs/stable/indexing.html#indexing-view-versus-copy\n",
      "  if __name__ == '__main__':\n",
      "/Users/yuliabarannikova/anaconda/lib/python3.6/site-packages/sklearn/utils/validation.py:475: DataConversionWarning: Data with input dtype object was converted to float64 by MinMaxScaler.\n",
      "  warnings.warn(msg, DataConversionWarning)\n"
     ]
    },
    {
     "name": "stdout",
     "output_type": "stream",
     "text": [
      "Champion:  37  p_val 3.50896820446e-69\n",
      "Champion:  267  p_val 2.63047573615e-105\n",
      "Champion:  25  p_val 6.05590337267e-110\n",
      "Champion:  81  p_val 2.49136699633e-104\n",
      "Champion:  236  p_val 1.29768408649e-66\n",
      "Champion:  91  p_val 1.32395944886e-50\n",
      "Champion:  41  p_val 4.52868269926e-09\n",
      "Champion:  77  p_val 2.34176312535e-48\n",
      "Champion:  12  p_val 5.73706940045e-123\n",
      "Champion:  21  p_val 1.82092515356e-132\n",
      "Champion:  245  p_val 0.0447722053738\n",
      "Champion:  24  p_val 2.04531808737e-65\n",
      "Champion:  39  p_val 8.60450140828e-55\n",
      "Champion:  110  p_val 1.93587989412e-28\n",
      "Champion:  86  p_val 7.91168779344e-107\n",
      "Champion:  18  p_val 2.85517412493e-64\n",
      "Champion:  103  p_val 5.75181572319e-119\n",
      "Champion:  11  p_val 1.18715416671e-94\n",
      "Champion:  101  p_val 3.54132244899e-59\n",
      "Champion:  61  p_val 5.63536231163e-49\n",
      "Champion:  67  p_val 1.50205702531e-37\n",
      "Champion:  164  p_val 2.44140122216e-14\n",
      "Champion:  32  p_val 1.46927056862e-72\n",
      "Champion:  134  p_val 0.540824754862\n",
      "Champion:  19  p_val 5.58214859337e-105\n",
      "Champion:  143  p_val 1.80747838657e-102\n",
      "Champion:  131  p_val 0.00102380451319\n",
      "Champion:  43  p_val 1.38905382481e-39\n",
      "Champion:  141  p_val 1.5601637213e-55\n",
      "Champion:  122  p_val 2.98405043665e-117\n",
      "Champion:  29  p_val 1.50832375307e-38\n",
      "Champion:  9  p_val 5.84171909266e-66\n",
      "Champion:  31  p_val 9.1944310159e-123\n",
      "Champion:  22  p_val 3.67781280159e-131\n",
      "Champion:  44  p_val 5.59593398144e-100\n",
      "Champion:  45  p_val 3.23590733692e-77\n",
      "Champion:  5  p_val 2.46696398784e-87\n",
      "Champion:  8  p_val 2.70058100445e-43\n",
      "Champion:  120  p_val 4.75887545373e-12\n",
      "Champion:  238  p_val 6.73526574322e-55\n",
      "Champion:  89  p_val 3.95008440669e-103\n",
      "Champion:  99  p_val 2.86463390852e-99\n",
      "Champion:  127  p_val 0.0210979826659\n",
      "Champion:  111  p_val 4.53646302436e-16\n",
      "Champion:  50  p_val 1.24318287052e-51\n",
      "Champion:  72  p_val 3.85675073331e-13\n",
      "Champion:  222  p_val 3.94488711871e-81\n",
      "Champion:  498  p_val 1.92313983355e-42\n",
      "Champion:  150  p_val 7.57965736769e-91\n",
      "Champion:  90  p_val 2.48264557699e-33\n",
      "Champion:  40  p_val 1.2294534202e-55\n",
      "Champion:  112  p_val 1.64149710553e-58\n",
      "Champion:  102  p_val 5.04027111811e-59\n",
      "Champion:  63  p_val 3.79848551584e-116\n",
      "Champion:  20  p_val 2.15900330687e-111\n",
      "Champion:  53  p_val 4.75632372303e-72\n",
      "Champion:  58  p_val 8.0255090763e-125\n",
      "Champion:  412  p_val 5.0900689888e-54\n",
      "Champion:  119  p_val 1.20676758548e-65\n",
      "Champion:  55  p_val 5.57120803816e-60\n",
      "Champion:  114  p_val 5.51813090397e-29\n",
      "Champion:  64  p_val 2.60598277106e-31\n",
      "Champion:  17  p_val 2.45801429512e-81\n",
      "Champion:  57  p_val 0.000342365430078\n",
      "Champion:  157  p_val 6.86678990476e-62\n",
      "Champion:  142  p_val 1.61024654552e-42\n",
      "Champion:  59  p_val 1.79334790285e-18\n",
      "Champion:  163  p_val 4.43832647972e-06\n",
      "Champion:  78  p_val 5.18388191331e-25\n",
      "Champion:  15  p_val 1.17307508381e-64\n",
      "Champion:  96  p_val 7.66091492939e-51\n",
      "Champion:  26  p_val 2.08392130767e-77\n",
      "Champion:  6  p_val 2.59716260679e-21\n",
      "Champion:  92  p_val 2.36662509734e-62\n",
      "Champion:  113  p_val 8.05840006289e-40\n",
      "Champion:  432  p_val 7.57656512519e-33\n",
      "Champion:  202  p_val 7.3915598992e-65\n",
      "Champion:  33  p_val 3.33342174875e-63\n",
      "Champion:  429  p_val 3.76912992767e-05\n",
      "Champion:  84  p_val 2.10792410443e-55\n",
      "Champion:  16  p_val 5.48154161429e-51\n",
      "Champion:  35  p_val 1.84797915875e-18\n",
      "Champion:  121  p_val 6.33577837508e-45\n",
      "Champion:  254  p_val 1.99452705757e-36\n",
      "Champion:  75  p_val 1.63728143338e-109\n",
      "Champion:  51  p_val 3.76846646007e-85\n",
      "Champion:  154  p_val 8.17918388167e-43\n",
      "Champion:  38  p_val 0.337794672462\n",
      "Champion:  107  p_val 5.75371868417e-16\n",
      "Champion:  28  p_val 6.4770564035e-35\n",
      "Champion:  3  p_val 7.37112341219e-125\n",
      "Champion:  7  p_val 6.43723470156e-11\n",
      "Champion:  201  p_val 1.58557864372e-20\n",
      "Champion:  82  p_val 0.0549421420066\n",
      "Champion:  427  p_val 0.24107934872\n",
      "Champion:  420  p_val 7.16602990071e-80\n",
      "Champion:  69  p_val 1.78628654626e-68\n",
      "Champion:  117  p_val 1.05737493413e-41\n",
      "Champion:  136  p_val 3.10980644599e-15\n",
      "Champion:  62  p_val 4.14311359887e-69\n",
      "Champion:  421  p_val 9.11673897781e-07\n",
      "Champion:  240  p_val 3.49983679755e-22\n",
      "Champion:  80  p_val 2.93804225344e-57\n",
      "Champion:  268  p_val 0.0142920700683\n",
      "Champion:  14  p_val 2.74518597886e-53\n",
      "Champion:  2  p_val 9.67821369696e-79\n",
      "Champion:  13  p_val 3.94039021377e-102\n",
      "Champion:  30  p_val 1.02634000713e-83\n",
      "Champion:  497  p_val 1.14661086098e-37\n",
      "Champion:  74  p_val 3.31624588327e-42\n",
      "Champion:  68  p_val 0.239943257291\n",
      "Champion:  126  p_val 1.68033645487e-18\n",
      "Champion:  98  p_val 5.40124328335e-21\n",
      "Champion:  83  p_val 7.1029077903e-28\n",
      "Champion:  1  p_val 1.26423040349e-115\n",
      "Champion:  104  p_val 6.92403379354e-49\n",
      "Champion:  516  p_val 2.02866579158e-26\n",
      "Champion:  115  p_val 1.04738307199e-93\n",
      "Champion:  223  p_val 1.74593491443e-13\n",
      "Champion:  105  p_val 3.44528066693e-52\n",
      "Champion:  42  p_val 5.59951375975e-25\n",
      "Champion:  161  p_val 0.649500338853\n",
      "Champion:  266  p_val 1.74485541441e-62\n",
      "Champion:  54  p_val 7.3613841254e-61\n",
      "Champion:  56  p_val 4.04927963595e-102\n",
      "Champion:  4  p_val 1.32646379873e-39\n",
      "Champion:  60  p_val 0.00271795956834\n",
      "Champion:  48  p_val 1.41537673171e-122\n",
      "Champion:  76  p_val 1.41344435853e-56\n",
      "Champion:  34  p_val 1.21671713955e-22\n",
      "Champion:  23  p_val 2.91911858008e-53\n",
      "Champion:  203  p_val 1.38399565114e-72\n",
      "Champion:  36  p_val 9.4834078033e-70\n",
      "Champion:  106  p_val 1.82452397351e-60\n",
      "Champion:  79  p_val 0.432888421233\n",
      "Champion:  85  p_val 8.0137028818e-46\n",
      "Champion:  133  p_val 0.00021831877444\n",
      "Champion:  27  p_val 1.47294161304e-09\n",
      "Champion:  10  p_val 1.13133653461e-56\n"
     ]
    }
   ],
   "source": [
    "classifier_results = []\n",
    "for c in champions:\n",
    "    c = int(c)\n",
    "    result_obj = {\n",
    "        'championId': c\n",
    "    }\n",
    "    p_val, mean_svm, mean_rand, std_svm, std_rand = classify(c)\n",
    "    print (\"Champion: \", c, \" p_val\", p_val)\n",
    "    result_obj = {\n",
    "        'championId': c,\n",
    "        'p_val': p_val,\n",
    "        'mean_svm': mean_svm,\n",
    "        'mean_rand': mean_rand,\n",
    "        'std_svm': std_svm,\n",
    "        'std_rand': std_rand\n",
    "    }\n",
    "    classifier_results.append(result_obj)"
   ]
  },
  {
   "cell_type": "code",
   "execution_count": 9,
   "metadata": {
    "collapsed": true
   },
   "outputs": [],
   "source": [
    "results_df = pd.DataFrame(classifier_results)"
   ]
  },
  {
   "cell_type": "code",
   "execution_count": 10,
   "metadata": {
    "collapsed": true
   },
   "outputs": [],
   "source": [
    "for col in results_df.columns[1:]:\n",
    "    results_df[col] = results_df[col].round(decimals=5)"
   ]
  },
  {
   "cell_type": "code",
   "execution_count": 11,
   "metadata": {
    "collapsed": true
   },
   "outputs": [],
   "source": [
    "results_df['mean_diff'] = results_df['mean_svm'] - results_df['mean_rand']\n",
    "results_df = results_df[['championId', 'p_val','mean_diff', 'mean_svm','mean_rand','std_svm', 'std_rand']]\n",
    "results_df.sort_values(by=['p_val']).to_csv('results_levels_stats.csv', index=False)"
   ]
  },
  {
   "cell_type": "code",
   "execution_count": 12,
   "metadata": {
    "collapsed": true
   },
   "outputs": [],
   "source": [
    "df = pd.DataFrame(list(db.matches_season11_72hrs.find({'participants': {'$elemMatch':{'championId': 82}},'gameMode':'CLASSIC'})))"
   ]
  },
  {
   "cell_type": "code",
   "execution_count": 13,
   "metadata": {},
   "outputs": [
    {
     "data": {
      "text/plain": [
       "532"
      ]
     },
     "execution_count": 13,
     "metadata": {},
     "output_type": "execute_result"
    }
   ],
   "source": [
    "len(df)"
   ]
  }
 ],
 "metadata": {
  "kernelspec": {
   "display_name": "Python 3",
   "language": "python",
   "name": "python3"
  },
  "language_info": {
   "codemirror_mode": {
    "name": "ipython",
    "version": 3
   },
   "file_extension": ".py",
   "mimetype": "text/x-python",
   "name": "python",
   "nbconvert_exporter": "python",
   "pygments_lexer": "ipython3",
   "version": "3.6.3"
  }
 },
 "nbformat": 4,
 "nbformat_minor": 2
}
